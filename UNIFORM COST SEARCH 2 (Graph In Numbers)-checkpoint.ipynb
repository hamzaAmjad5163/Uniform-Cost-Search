{
 "cells": [
  {
   "cell_type": "code",
   "execution_count": 15,
   "id": "e82f6235",
   "metadata": {},
   "outputs": [],
   "source": [
    "mygraph = {\n",
    "    '1' :[('1',2),('5',1)],\n",
    "    '2' :[('3',1),('6',3)],\n",
    "    '3' :[('4',2)],\n",
    "    '4' :[('8',1)],\n",
    "    '5' :[('9',1)],\n",
    "    '6' :[('5',5),('10',4),('7',1)],\n",
    "    '7' :[('3',3),('11',10)],\n",
    "    '8' :[('7',5),('12',15)],\n",
    "    '9' :[('10',8)],\n",
    "    '10' :[('11',3)],\n",
    "    '11' :[('12',1)],\n",
    "    '12' :[(\"\")],\n",
    "}\n",
    "\n",
    "def path_cost(path):\n",
    "    total_cost = 0\n",
    "    for (node,cost) in path:\n",
    "        total_cost = total_cost + cost\n",
    "    return total_cost, path[-1][0]\n",
    "\n",
    "def myucs(mygraph, start, goal):\n",
    "    visited = []\n",
    "    queue = [[(start, 0)]]\n",
    "    while queue:\n",
    "        queue.sort(key = path_cost)\n",
    "        path = queue.pop(0)\n",
    "        node = path[-1][0]\n",
    "        if node not in visited:\n",
    "            visited.append(node)\n",
    "            if node == goal:\n",
    "                return path\n",
    "            else:\n",
    "                neigbour_nodes = mygraph.get(node, [])\n",
    "                for(node2, cost) in neigbour_nodes:\n",
    "                    new_path = path.copy()\n",
    "                    new_path.append((node2, cost))\n",
    "                    queue.append(new_path)\n",
    "        else:\n",
    "            continue\n"
   ]
  },
  {
   "cell_type": "code",
   "execution_count": 17,
   "id": "cfc77dae",
   "metadata": {},
   "outputs": [
    {
     "name": "stdout",
     "output_type": "stream",
     "text": [
      "Path:-  [('1', 0), ('5', 1), ('9', 1), ('10', 8), ('11', 3), ('12', 1)]\n",
      "Path Cost:-  (14, '12')\n"
     ]
    }
   ],
   "source": [
    "answer = myucs(mygraph,\"1\",\"12\")\n",
    "print(\"Path:- \",answer)\n",
    "print(\"Path Cost:- \",path_cost(answer))"
   ]
  },
  {
   "cell_type": "code",
   "execution_count": null,
   "id": "814ae61d",
   "metadata": {},
   "outputs": [],
   "source": []
  }
 ],
 "metadata": {
  "kernelspec": {
   "display_name": "Python 3 (ipykernel)",
   "language": "python",
   "name": "python3"
  },
  "language_info": {
   "codemirror_mode": {
    "name": "ipython",
    "version": 3
   },
   "file_extension": ".py",
   "mimetype": "text/x-python",
   "name": "python",
   "nbconvert_exporter": "python",
   "pygments_lexer": "ipython3",
   "version": "3.9.12"
  }
 },
 "nbformat": 4,
 "nbformat_minor": 5
}
